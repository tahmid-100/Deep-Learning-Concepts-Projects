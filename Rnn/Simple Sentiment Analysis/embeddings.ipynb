{
 "cells": [
  {
   "cell_type": "code",
   "execution_count": 10,
   "id": "fd4c8a11-4204-457b-a253-069d438f4fb0",
   "metadata": {},
   "outputs": [],
   "source": [
    "docs = ['go india',\n",
    "\t\t'india india',\n",
    "\t\t'hip hip hurray',\n",
    "\t\t'jeetega bhai jeetega india jeetega',\n",
    "\t\t'bharat mata ki jai',\n",
    "\t\t'kohli kohli',\n",
    "\t\t'sachin sachin',\n",
    "\t\t'dhoni dhoni',\n",
    "\t\t'modi ji ki jai',\n",
    "\t\t'inquilab zindabad']"
   ]
  },
  {
   "cell_type": "code",
   "execution_count": 11,
   "id": "e5c95c7d-8568-4ed1-bf3c-c92f89c86f8d",
   "metadata": {},
   "outputs": [],
   "source": [
    "from keras.preprocessing.text import Tokenizer\n",
    "tokenizer = Tokenizer()"
   ]
  },
  {
   "cell_type": "code",
   "execution_count": 12,
   "id": "8572cd84-d424-4afd-b1e4-d40503e2fb23",
   "metadata": {},
   "outputs": [
    {
     "data": {
      "text/plain": [
       "17"
      ]
     },
     "execution_count": 12,
     "metadata": {},
     "output_type": "execute_result"
    }
   ],
   "source": [
    "tokenizer.fit_on_texts(docs)\n",
    "len(tokenizer.word_index)"
   ]
  },
  {
   "cell_type": "code",
   "execution_count": 13,
   "id": "b1c6f385-22a6-4bdf-a94e-278729c4d894",
   "metadata": {},
   "outputs": [
    {
     "data": {
      "text/plain": [
       "[[9, 1],\n",
       " [1, 1],\n",
       " [3, 3, 10],\n",
       " [2, 11, 2, 1, 2],\n",
       " [12, 13, 4, 5],\n",
       " [6, 6],\n",
       " [7, 7],\n",
       " [8, 8],\n",
       " [14, 15, 4, 5],\n",
       " [16, 17]]"
      ]
     },
     "execution_count": 13,
     "metadata": {},
     "output_type": "execute_result"
    }
   ],
   "source": [
    "sequences = tokenizer.texts_to_sequences(docs)\n",
    "sequences"
   ]
  },
  {
   "cell_type": "code",
   "execution_count": 14,
   "id": "15d5faca-5b4e-4834-bdc1-d38ad1a0e518",
   "metadata": {},
   "outputs": [
    {
     "data": {
      "text/plain": [
       "array([[ 9,  1,  0,  0,  0],\n",
       "       [ 1,  1,  0,  0,  0],\n",
       "       [ 3,  3, 10,  0,  0],\n",
       "       [ 2, 11,  2,  1,  2],\n",
       "       [12, 13,  4,  5,  0],\n",
       "       [ 6,  6,  0,  0,  0],\n",
       "       [ 7,  7,  0,  0,  0],\n",
       "       [ 8,  8,  0,  0,  0],\n",
       "       [14, 15,  4,  5,  0],\n",
       "       [16, 17,  0,  0,  0]])"
      ]
     },
     "execution_count": 14,
     "metadata": {},
     "output_type": "execute_result"
    }
   ],
   "source": [
    "from keras.utils import pad_sequences\n",
    "sequences = pad_sequences(sequences,padding='post')\n",
    "sequences"
   ]
  },
  {
   "cell_type": "code",
   "execution_count": 15,
   "id": "1b47d14e-718a-4f18-9182-cec39d03621e",
   "metadata": {},
   "outputs": [
    {
     "name": "stdout",
     "output_type": "stream",
     "text": [
      "Model: \"sequential_1\"\n",
      "_________________________________________________________________\n",
      " Layer (type)                Output Shape              Param #   \n",
      "=================================================================\n",
      " embedding_1 (Embedding)     (None, 5, 2)              34        \n",
      "                                                                 \n",
      "=================================================================\n",
      "Total params: 34 (136.00 Byte)\n",
      "Trainable params: 34 (136.00 Byte)\n",
      "Non-trainable params: 0 (0.00 Byte)\n",
      "_________________________________________________________________\n"
     ]
    }
   ],
   "source": [
    "from keras.datasets import imdb\n",
    "from keras import Sequential\n",
    "from keras.layers import Dense,SimpleRNN,Embedding,Flatten\n",
    "model = Sequential()\n",
    "model.add(Embedding(17,output_dim=2,input_length=5))\n",
    "\n",
    "model.summary()"
   ]
  },
  {
   "cell_type": "code",
   "execution_count": 16,
   "id": "c7d13310-bb7e-4121-b0dd-a3068095392b",
   "metadata": {},
   "outputs": [],
   "source": [
    "model.compile('adam','accuracy')"
   ]
  },
  {
   "cell_type": "code",
   "execution_count": 19,
   "id": "53505413-2b94-4859-8a3c-0c34551760f4",
   "metadata": {},
   "outputs": [
    {
     "name": "stdout",
     "output_type": "stream",
     "text": [
      "1/1 [==============================] - 0s 38ms/step\n",
      "[[[ 0.01138758  0.04963386]\n",
      "  [-0.0381778  -0.01842069]\n",
      "  [ 0.03287527 -0.03236114]\n",
      "  [ 0.03287527 -0.03236114]\n",
      "  [ 0.03287527 -0.03236114]]\n",
      "\n",
      " [[-0.0381778  -0.01842069]\n",
      "  [-0.0381778  -0.01842069]\n",
      "  [ 0.03287527 -0.03236114]\n",
      "  [ 0.03287527 -0.03236114]\n",
      "  [ 0.03287527 -0.03236114]]\n",
      "\n",
      " [[ 0.01714971  0.00163149]\n",
      "  [ 0.01714971  0.00163149]\n",
      "  [ 0.03513881  0.01389781]\n",
      "  [ 0.03287527 -0.03236114]\n",
      "  [ 0.03287527 -0.03236114]]\n",
      "\n",
      " [[-0.00669507  0.04899183]\n",
      "  [-0.02462204 -0.03120461]\n",
      "  [-0.00669507  0.04899183]\n",
      "  [-0.0381778  -0.01842069]\n",
      "  [-0.00669507  0.04899183]]\n",
      "\n",
      " [[ 0.00733219 -0.00287143]\n",
      "  [ 0.00795455  0.00135777]\n",
      "  [ 0.01108355 -0.04824311]\n",
      "  [-0.01697586  0.00344644]\n",
      "  [ 0.03287527 -0.03236114]]\n",
      "\n",
      " [[-0.03438525 -0.03614914]\n",
      "  [-0.03438525 -0.03614914]\n",
      "  [ 0.03287527 -0.03236114]\n",
      "  [ 0.03287527 -0.03236114]\n",
      "  [ 0.03287527 -0.03236114]]\n",
      "\n",
      " [[ 0.01715391 -0.02859565]\n",
      "  [ 0.01715391 -0.02859565]\n",
      "  [ 0.03287527 -0.03236114]\n",
      "  [ 0.03287527 -0.03236114]\n",
      "  [ 0.03287527 -0.03236114]]\n",
      "\n",
      " [[ 0.01652424  0.04097531]\n",
      "  [ 0.01652424  0.04097531]\n",
      "  [ 0.03287527 -0.03236114]\n",
      "  [ 0.03287527 -0.03236114]\n",
      "  [ 0.03287527 -0.03236114]]\n",
      "\n",
      " [[-0.04787347 -0.01686169]\n",
      "  [-0.02595389  0.00498773]\n",
      "  [ 0.01108355 -0.04824311]\n",
      "  [-0.01697586  0.00344644]\n",
      "  [ 0.03287527 -0.03236114]]\n",
      "\n",
      " [[-0.01915486  0.00743936]\n",
      "  [-0.01915486  0.00743936]\n",
      "  [ 0.03287527 -0.03236114]\n",
      "  [ 0.03287527 -0.03236114]\n",
      "  [ 0.03287527 -0.03236114]]]\n"
     ]
    }
   ],
   "source": [
    "import numpy as np\n",
    "sequences = np.array(sequences)\n",
    "sequences = np.clip(sequences, 0, 16)\n",
    "\n",
    "pred = model.predict(sequences)\n",
    "print(pred)"
   ]
  },
  {
   "cell_type": "code",
   "execution_count": 20,
   "id": "76fc485d-9942-49cb-9e85-3b020fbcdf4c",
   "metadata": {},
   "outputs": [],
   "source": [
    "from keras.datasets import imdb\n",
    "from keras.preprocessing.text import Tokenizer\n",
    "from keras.utils import pad_sequences\n",
    "from keras import Sequential\n",
    "from keras.layers import Dense,SimpleRNN,Embedding,Flatten"
   ]
  },
  {
   "cell_type": "code",
   "execution_count": 22,
   "id": "b842eea5-9cca-4285-9949-a7f61397df1a",
   "metadata": {},
   "outputs": [],
   "source": [
    "(X_train,y_train),(X_test,y_test) = imdb.load_data()\n",
    "X_train = pad_sequences(X_train,padding='post',maxlen=50)\n",
    "X_test = pad_sequences(X_test,padding='post',maxlen=50)"
   ]
  },
  {
   "cell_type": "code",
   "execution_count": 24,
   "id": "6adf3793-9046-4c7c-a7f0-3acecdf0da21",
   "metadata": {},
   "outputs": [
    {
     "name": "stdout",
     "output_type": "stream",
     "text": [
      "Model: \"sequential_3\"\n",
      "_________________________________________________________________\n",
      " Layer (type)                Output Shape              Param #   \n",
      "=================================================================\n",
      " embedding_3 (Embedding)     (None, 50, 2)             20000     \n",
      "                                                                 \n",
      " simple_rnn (SimpleRNN)      (None, 32)                1120      \n",
      "                                                                 \n",
      " dense (Dense)               (None, 1)                 33        \n",
      "                                                                 \n",
      "=================================================================\n",
      "Total params: 21153 (82.63 KB)\n",
      "Trainable params: 21153 (82.63 KB)\n",
      "Non-trainable params: 0 (0.00 Byte)\n",
      "_________________________________________________________________\n"
     ]
    }
   ],
   "source": [
    "from keras.datasets import imdb\n",
    "from keras.models import Sequential\n",
    "from keras.layers import Embedding, SimpleRNN, Dense\n",
    "from keras.preprocessing.sequence import pad_sequences\n",
    "\n",
    "# Load and pad data\n",
    "(X_train, y_train), (X_test, y_test) = imdb.load_data(num_words=10000)\n",
    "X_train = pad_sequences(X_train, padding='post', maxlen=50)\n",
    "X_test = pad_sequences(X_test, padding='post', maxlen=50)\n",
    "\n",
    "# Build model\n",
    "model = Sequential()\n",
    "model.add(Embedding(input_dim=10000, output_dim=2, input_length=50))\n",
    "model.add(SimpleRNN(32))\n",
    "model.add(Dense(1, activation='sigmoid'))\n",
    "\n",
    "model.summary()\n"
   ]
  },
  {
   "cell_type": "code",
   "execution_count": 25,
   "id": "b7c45ec9-1090-4fbd-b03d-d1d524ac949f",
   "metadata": {},
   "outputs": [
    {
     "name": "stdout",
     "output_type": "stream",
     "text": [
      "Epoch 1/5\n",
      "WARNING:tensorflow:From C:\\Users\\USER\\AppData\\Local\\Programs\\Python\\Python39\\lib\\site-packages\\keras\\src\\utils\\tf_utils.py:492: The name tf.ragged.RaggedTensorValue is deprecated. Please use tf.compat.v1.ragged.RaggedTensorValue instead.\n",
      "\n",
      "WARNING:tensorflow:From C:\\Users\\USER\\AppData\\Local\\Programs\\Python\\Python39\\lib\\site-packages\\keras\\src\\engine\\base_layer_utils.py:384: The name tf.executing_eagerly_outside_functions is deprecated. Please use tf.compat.v1.executing_eagerly_outside_functions instead.\n",
      "\n",
      "782/782 [==============================] - 30s 33ms/step - loss: 0.6111 - acc: 0.6366 - val_loss: 0.4518 - val_acc: 0.7902\n",
      "Epoch 2/5\n",
      "782/782 [==============================] - 25s 32ms/step - loss: 0.3894 - acc: 0.8289 - val_loss: 0.4216 - val_acc: 0.8069\n",
      "Epoch 3/5\n",
      "782/782 [==============================] - 26s 33ms/step - loss: 0.3259 - acc: 0.8645 - val_loss: 0.4559 - val_acc: 0.8049\n",
      "Epoch 4/5\n",
      "782/782 [==============================] - 26s 33ms/step - loss: 0.2863 - acc: 0.8846 - val_loss: 0.4504 - val_acc: 0.8018\n",
      "Epoch 5/5\n",
      "782/782 [==============================] - 25s 32ms/step - loss: 0.2637 - acc: 0.8986 - val_loss: 0.5276 - val_acc: 0.7968\n"
     ]
    }
   ],
   "source": [
    "model.compile(optimizer='adam', loss='binary_crossentropy', metrics=['acc'])\n",
    "history = model.fit(X_train, y_train,epochs=5,validation_data=(X_test,y_test))"
   ]
  },
  {
   "cell_type": "code",
   "execution_count": null,
   "id": "b0700cc1-896e-4d7b-88e1-1847a03abf6c",
   "metadata": {},
   "outputs": [],
   "source": []
  }
 ],
 "metadata": {
  "kernelspec": {
   "display_name": "Python 3 (ipykernel)",
   "language": "python",
   "name": "python3"
  },
  "language_info": {
   "codemirror_mode": {
    "name": "ipython",
    "version": 3
   },
   "file_extension": ".py",
   "mimetype": "text/x-python",
   "name": "python",
   "nbconvert_exporter": "python",
   "pygments_lexer": "ipython3",
   "version": "3.9.13"
  }
 },
 "nbformat": 4,
 "nbformat_minor": 5
}
